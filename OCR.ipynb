{
  "cells": [
    {
      "cell_type": "code",
      "execution_count": 1,
      "metadata": {
        "colab": {
          "base_uri": "https://localhost:8080/"
        },
        "id": "BHuyzRL3bToN",
        "outputId": "ba18d22c-7d86-4cfb-d1ba-b4914b5ccde3"
      },
      "outputs": [
        {
          "output_type": "stream",
          "name": "stdout",
          "text": [
            "Requirement already satisfied: easyocr in /usr/local/lib/python3.10/dist-packages (1.7.1)\n",
            "Requirement already satisfied: torch in /usr/local/lib/python3.10/dist-packages (from easyocr) (2.3.0+cu121)\n",
            "Requirement already satisfied: torchvision>=0.5 in /usr/local/lib/python3.10/dist-packages (from easyocr) (0.18.0+cu121)\n",
            "Requirement already satisfied: opencv-python-headless in /usr/local/lib/python3.10/dist-packages (from easyocr) (4.10.0.84)\n",
            "Requirement already satisfied: scipy in /usr/local/lib/python3.10/dist-packages (from easyocr) (1.11.4)\n",
            "Requirement already satisfied: numpy in /usr/local/lib/python3.10/dist-packages (from easyocr) (1.25.2)\n",
            "Requirement already satisfied: Pillow in /usr/local/lib/python3.10/dist-packages (from easyocr) (9.4.0)\n",
            "Requirement already satisfied: scikit-image in /usr/local/lib/python3.10/dist-packages (from easyocr) (0.19.3)\n",
            "Requirement already satisfied: python-bidi in /usr/local/lib/python3.10/dist-packages (from easyocr) (0.4.2)\n",
            "Requirement already satisfied: PyYAML in /usr/local/lib/python3.10/dist-packages (from easyocr) (6.0.1)\n",
            "Requirement already satisfied: Shapely in /usr/local/lib/python3.10/dist-packages (from easyocr) (2.0.4)\n",
            "Requirement already satisfied: pyclipper in /usr/local/lib/python3.10/dist-packages (from easyocr) (1.3.0.post5)\n",
            "Requirement already satisfied: ninja in /usr/local/lib/python3.10/dist-packages (from easyocr) (1.11.1.1)\n",
            "Requirement already satisfied: filelock in /usr/local/lib/python3.10/dist-packages (from torch->easyocr) (3.15.1)\n",
            "Requirement already satisfied: typing-extensions>=4.8.0 in /usr/local/lib/python3.10/dist-packages (from torch->easyocr) (4.12.2)\n",
            "Requirement already satisfied: sympy in /usr/local/lib/python3.10/dist-packages (from torch->easyocr) (1.12.1)\n",
            "Requirement already satisfied: networkx in /usr/local/lib/python3.10/dist-packages (from torch->easyocr) (3.3)\n",
            "Requirement already satisfied: jinja2 in /usr/local/lib/python3.10/dist-packages (from torch->easyocr) (3.1.4)\n",
            "Requirement already satisfied: fsspec in /usr/local/lib/python3.10/dist-packages (from torch->easyocr) (2023.6.0)\n",
            "Requirement already satisfied: nvidia-cuda-nvrtc-cu12==12.1.105 in /usr/local/lib/python3.10/dist-packages (from torch->easyocr) (12.1.105)\n",
            "Requirement already satisfied: nvidia-cuda-runtime-cu12==12.1.105 in /usr/local/lib/python3.10/dist-packages (from torch->easyocr) (12.1.105)\n",
            "Requirement already satisfied: nvidia-cuda-cupti-cu12==12.1.105 in /usr/local/lib/python3.10/dist-packages (from torch->easyocr) (12.1.105)\n",
            "Requirement already satisfied: nvidia-cudnn-cu12==8.9.2.26 in /usr/local/lib/python3.10/dist-packages (from torch->easyocr) (8.9.2.26)\n",
            "Requirement already satisfied: nvidia-cublas-cu12==12.1.3.1 in /usr/local/lib/python3.10/dist-packages (from torch->easyocr) (12.1.3.1)\n",
            "Requirement already satisfied: nvidia-cufft-cu12==11.0.2.54 in /usr/local/lib/python3.10/dist-packages (from torch->easyocr) (11.0.2.54)\n",
            "Requirement already satisfied: nvidia-curand-cu12==10.3.2.106 in /usr/local/lib/python3.10/dist-packages (from torch->easyocr) (10.3.2.106)\n",
            "Requirement already satisfied: nvidia-cusolver-cu12==11.4.5.107 in /usr/local/lib/python3.10/dist-packages (from torch->easyocr) (11.4.5.107)\n",
            "Requirement already satisfied: nvidia-cusparse-cu12==12.1.0.106 in /usr/local/lib/python3.10/dist-packages (from torch->easyocr) (12.1.0.106)\n",
            "Requirement already satisfied: nvidia-nccl-cu12==2.20.5 in /usr/local/lib/python3.10/dist-packages (from torch->easyocr) (2.20.5)\n",
            "Requirement already satisfied: nvidia-nvtx-cu12==12.1.105 in /usr/local/lib/python3.10/dist-packages (from torch->easyocr) (12.1.105)\n",
            "Requirement already satisfied: triton==2.3.0 in /usr/local/lib/python3.10/dist-packages (from torch->easyocr) (2.3.0)\n",
            "Requirement already satisfied: nvidia-nvjitlink-cu12 in /usr/local/lib/python3.10/dist-packages (from nvidia-cusolver-cu12==11.4.5.107->torch->easyocr) (12.5.40)\n",
            "Requirement already satisfied: six in /usr/local/lib/python3.10/dist-packages (from python-bidi->easyocr) (1.16.0)\n",
            "Requirement already satisfied: imageio>=2.4.1 in /usr/local/lib/python3.10/dist-packages (from scikit-image->easyocr) (2.31.6)\n",
            "Requirement already satisfied: tifffile>=2019.7.26 in /usr/local/lib/python3.10/dist-packages (from scikit-image->easyocr) (2024.5.22)\n",
            "Requirement already satisfied: PyWavelets>=1.1.1 in /usr/local/lib/python3.10/dist-packages (from scikit-image->easyocr) (1.6.0)\n",
            "Requirement already satisfied: packaging>=20.0 in /usr/local/lib/python3.10/dist-packages (from scikit-image->easyocr) (24.1)\n",
            "Requirement already satisfied: MarkupSafe>=2.0 in /usr/local/lib/python3.10/dist-packages (from jinja2->torch->easyocr) (2.1.5)\n",
            "Requirement already satisfied: mpmath<1.4.0,>=1.1.0 in /usr/local/lib/python3.10/dist-packages (from sympy->torch->easyocr) (1.3.0)\n",
            "Requirement already satisfied: streamlit in /usr/local/lib/python3.10/dist-packages (1.36.0)\n",
            "Requirement already satisfied: altair<6,>=4.0 in /usr/local/lib/python3.10/dist-packages (from streamlit) (4.2.2)\n",
            "Requirement already satisfied: blinker<2,>=1.0.0 in /usr/lib/python3/dist-packages (from streamlit) (1.4)\n",
            "Requirement already satisfied: cachetools<6,>=4.0 in /usr/local/lib/python3.10/dist-packages (from streamlit) (5.3.3)\n",
            "Requirement already satisfied: click<9,>=7.0 in /usr/local/lib/python3.10/dist-packages (from streamlit) (8.1.7)\n",
            "Requirement already satisfied: numpy<3,>=1.20 in /usr/local/lib/python3.10/dist-packages (from streamlit) (1.25.2)\n",
            "Requirement already satisfied: packaging<25,>=20 in /usr/local/lib/python3.10/dist-packages (from streamlit) (24.1)\n",
            "Requirement already satisfied: pandas<3,>=1.3.0 in /usr/local/lib/python3.10/dist-packages (from streamlit) (2.0.3)\n",
            "Requirement already satisfied: pillow<11,>=7.1.0 in /usr/local/lib/python3.10/dist-packages (from streamlit) (9.4.0)\n",
            "Requirement already satisfied: protobuf<6,>=3.20 in /usr/local/lib/python3.10/dist-packages (from streamlit) (3.20.3)\n",
            "Requirement already satisfied: pyarrow>=7.0 in /usr/local/lib/python3.10/dist-packages (from streamlit) (14.0.2)\n",
            "Requirement already satisfied: requests<3,>=2.27 in /usr/local/lib/python3.10/dist-packages (from streamlit) (2.31.0)\n",
            "Requirement already satisfied: rich<14,>=10.14.0 in /usr/local/lib/python3.10/dist-packages (from streamlit) (13.7.1)\n",
            "Requirement already satisfied: tenacity<9,>=8.1.0 in /usr/local/lib/python3.10/dist-packages (from streamlit) (8.4.1)\n",
            "Requirement already satisfied: toml<2,>=0.10.1 in /usr/local/lib/python3.10/dist-packages (from streamlit) (0.10.2)\n",
            "Requirement already satisfied: typing-extensions<5,>=4.3.0 in /usr/local/lib/python3.10/dist-packages (from streamlit) (4.12.2)\n",
            "Requirement already satisfied: gitpython!=3.1.19,<4,>=3.0.7 in /usr/local/lib/python3.10/dist-packages (from streamlit) (3.1.43)\n",
            "Requirement already satisfied: pydeck<1,>=0.8.0b4 in /usr/local/lib/python3.10/dist-packages (from streamlit) (0.9.1)\n",
            "Requirement already satisfied: tornado<7,>=6.0.3 in /usr/local/lib/python3.10/dist-packages (from streamlit) (6.3.3)\n",
            "Requirement already satisfied: watchdog<5,>=2.1.5 in /usr/local/lib/python3.10/dist-packages (from streamlit) (4.0.1)\n",
            "Requirement already satisfied: entrypoints in /usr/local/lib/python3.10/dist-packages (from altair<6,>=4.0->streamlit) (0.4)\n",
            "Requirement already satisfied: jinja2 in /usr/local/lib/python3.10/dist-packages (from altair<6,>=4.0->streamlit) (3.1.4)\n",
            "Requirement already satisfied: jsonschema>=3.0 in /usr/local/lib/python3.10/dist-packages (from altair<6,>=4.0->streamlit) (4.19.2)\n",
            "Requirement already satisfied: toolz in /usr/local/lib/python3.10/dist-packages (from altair<6,>=4.0->streamlit) (0.12.1)\n",
            "Requirement already satisfied: gitdb<5,>=4.0.1 in /usr/local/lib/python3.10/dist-packages (from gitpython!=3.1.19,<4,>=3.0.7->streamlit) (4.0.11)\n",
            "Requirement already satisfied: python-dateutil>=2.8.2 in /usr/local/lib/python3.10/dist-packages (from pandas<3,>=1.3.0->streamlit) (2.8.2)\n",
            "Requirement already satisfied: pytz>=2020.1 in /usr/local/lib/python3.10/dist-packages (from pandas<3,>=1.3.0->streamlit) (2023.4)\n",
            "Requirement already satisfied: tzdata>=2022.1 in /usr/local/lib/python3.10/dist-packages (from pandas<3,>=1.3.0->streamlit) (2024.1)\n",
            "Requirement already satisfied: charset-normalizer<4,>=2 in /usr/local/lib/python3.10/dist-packages (from requests<3,>=2.27->streamlit) (3.3.2)\n",
            "Requirement already satisfied: idna<4,>=2.5 in /usr/local/lib/python3.10/dist-packages (from requests<3,>=2.27->streamlit) (3.7)\n",
            "Requirement already satisfied: urllib3<3,>=1.21.1 in /usr/local/lib/python3.10/dist-packages (from requests<3,>=2.27->streamlit) (2.0.7)\n",
            "Requirement already satisfied: certifi>=2017.4.17 in /usr/local/lib/python3.10/dist-packages (from requests<3,>=2.27->streamlit) (2024.6.2)\n",
            "Requirement already satisfied: markdown-it-py>=2.2.0 in /usr/local/lib/python3.10/dist-packages (from rich<14,>=10.14.0->streamlit) (3.0.0)\n",
            "Requirement already satisfied: pygments<3.0.0,>=2.13.0 in /usr/local/lib/python3.10/dist-packages (from rich<14,>=10.14.0->streamlit) (2.16.1)\n",
            "Requirement already satisfied: smmap<6,>=3.0.1 in /usr/local/lib/python3.10/dist-packages (from gitdb<5,>=4.0.1->gitpython!=3.1.19,<4,>=3.0.7->streamlit) (5.0.1)\n",
            "Requirement already satisfied: MarkupSafe>=2.0 in /usr/local/lib/python3.10/dist-packages (from jinja2->altair<6,>=4.0->streamlit) (2.1.5)\n",
            "Requirement already satisfied: attrs>=22.2.0 in /usr/local/lib/python3.10/dist-packages (from jsonschema>=3.0->altair<6,>=4.0->streamlit) (23.2.0)\n",
            "Requirement already satisfied: jsonschema-specifications>=2023.03.6 in /usr/local/lib/python3.10/dist-packages (from jsonschema>=3.0->altair<6,>=4.0->streamlit) (2023.12.1)\n",
            "Requirement already satisfied: referencing>=0.28.4 in /usr/local/lib/python3.10/dist-packages (from jsonschema>=3.0->altair<6,>=4.0->streamlit) (0.35.1)\n",
            "Requirement already satisfied: rpds-py>=0.7.1 in /usr/local/lib/python3.10/dist-packages (from jsonschema>=3.0->altair<6,>=4.0->streamlit) (0.18.1)\n",
            "Requirement already satisfied: mdurl~=0.1 in /usr/local/lib/python3.10/dist-packages (from markdown-it-py>=2.2.0->rich<14,>=10.14.0->streamlit) (0.1.2)\n",
            "Requirement already satisfied: six>=1.5 in /usr/local/lib/python3.10/dist-packages (from python-dateutil>=2.8.2->pandas<3,>=1.3.0->streamlit) (1.16.0)\n",
            "Requirement already satisfied: streamlit_option_menu in /usr/local/lib/python3.10/dist-packages (0.3.13)\n",
            "Requirement already satisfied: streamlit>=0.63 in /usr/local/lib/python3.10/dist-packages (from streamlit_option_menu) (1.36.0)\n",
            "Requirement already satisfied: altair<6,>=4.0 in /usr/local/lib/python3.10/dist-packages (from streamlit>=0.63->streamlit_option_menu) (4.2.2)\n",
            "Requirement already satisfied: blinker<2,>=1.0.0 in /usr/lib/python3/dist-packages (from streamlit>=0.63->streamlit_option_menu) (1.4)\n",
            "Requirement already satisfied: cachetools<6,>=4.0 in /usr/local/lib/python3.10/dist-packages (from streamlit>=0.63->streamlit_option_menu) (5.3.3)\n",
            "Requirement already satisfied: click<9,>=7.0 in /usr/local/lib/python3.10/dist-packages (from streamlit>=0.63->streamlit_option_menu) (8.1.7)\n",
            "Requirement already satisfied: numpy<3,>=1.20 in /usr/local/lib/python3.10/dist-packages (from streamlit>=0.63->streamlit_option_menu) (1.25.2)\n",
            "Requirement already satisfied: packaging<25,>=20 in /usr/local/lib/python3.10/dist-packages (from streamlit>=0.63->streamlit_option_menu) (24.1)\n",
            "Requirement already satisfied: pandas<3,>=1.3.0 in /usr/local/lib/python3.10/dist-packages (from streamlit>=0.63->streamlit_option_menu) (2.0.3)\n",
            "Requirement already satisfied: pillow<11,>=7.1.0 in /usr/local/lib/python3.10/dist-packages (from streamlit>=0.63->streamlit_option_menu) (9.4.0)\n",
            "Requirement already satisfied: protobuf<6,>=3.20 in /usr/local/lib/python3.10/dist-packages (from streamlit>=0.63->streamlit_option_menu) (3.20.3)\n",
            "Requirement already satisfied: pyarrow>=7.0 in /usr/local/lib/python3.10/dist-packages (from streamlit>=0.63->streamlit_option_menu) (14.0.2)\n",
            "Requirement already satisfied: requests<3,>=2.27 in /usr/local/lib/python3.10/dist-packages (from streamlit>=0.63->streamlit_option_menu) (2.31.0)\n",
            "Requirement already satisfied: rich<14,>=10.14.0 in /usr/local/lib/python3.10/dist-packages (from streamlit>=0.63->streamlit_option_menu) (13.7.1)\n",
            "Requirement already satisfied: tenacity<9,>=8.1.0 in /usr/local/lib/python3.10/dist-packages (from streamlit>=0.63->streamlit_option_menu) (8.4.1)\n",
            "Requirement already satisfied: toml<2,>=0.10.1 in /usr/local/lib/python3.10/dist-packages (from streamlit>=0.63->streamlit_option_menu) (0.10.2)\n",
            "Requirement already satisfied: typing-extensions<5,>=4.3.0 in /usr/local/lib/python3.10/dist-packages (from streamlit>=0.63->streamlit_option_menu) (4.12.2)\n",
            "Requirement already satisfied: gitpython!=3.1.19,<4,>=3.0.7 in /usr/local/lib/python3.10/dist-packages (from streamlit>=0.63->streamlit_option_menu) (3.1.43)\n",
            "Requirement already satisfied: pydeck<1,>=0.8.0b4 in /usr/local/lib/python3.10/dist-packages (from streamlit>=0.63->streamlit_option_menu) (0.9.1)\n",
            "Requirement already satisfied: tornado<7,>=6.0.3 in /usr/local/lib/python3.10/dist-packages (from streamlit>=0.63->streamlit_option_menu) (6.3.3)\n",
            "Requirement already satisfied: watchdog<5,>=2.1.5 in /usr/local/lib/python3.10/dist-packages (from streamlit>=0.63->streamlit_option_menu) (4.0.1)\n",
            "Requirement already satisfied: entrypoints in /usr/local/lib/python3.10/dist-packages (from altair<6,>=4.0->streamlit>=0.63->streamlit_option_menu) (0.4)\n",
            "Requirement already satisfied: jinja2 in /usr/local/lib/python3.10/dist-packages (from altair<6,>=4.0->streamlit>=0.63->streamlit_option_menu) (3.1.4)\n",
            "Requirement already satisfied: jsonschema>=3.0 in /usr/local/lib/python3.10/dist-packages (from altair<6,>=4.0->streamlit>=0.63->streamlit_option_menu) (4.19.2)\n",
            "Requirement already satisfied: toolz in /usr/local/lib/python3.10/dist-packages (from altair<6,>=4.0->streamlit>=0.63->streamlit_option_menu) (0.12.1)\n",
            "Requirement already satisfied: gitdb<5,>=4.0.1 in /usr/local/lib/python3.10/dist-packages (from gitpython!=3.1.19,<4,>=3.0.7->streamlit>=0.63->streamlit_option_menu) (4.0.11)\n",
            "Requirement already satisfied: python-dateutil>=2.8.2 in /usr/local/lib/python3.10/dist-packages (from pandas<3,>=1.3.0->streamlit>=0.63->streamlit_option_menu) (2.8.2)\n",
            "Requirement already satisfied: pytz>=2020.1 in /usr/local/lib/python3.10/dist-packages (from pandas<3,>=1.3.0->streamlit>=0.63->streamlit_option_menu) (2023.4)\n",
            "Requirement already satisfied: tzdata>=2022.1 in /usr/local/lib/python3.10/dist-packages (from pandas<3,>=1.3.0->streamlit>=0.63->streamlit_option_menu) (2024.1)\n",
            "Requirement already satisfied: charset-normalizer<4,>=2 in /usr/local/lib/python3.10/dist-packages (from requests<3,>=2.27->streamlit>=0.63->streamlit_option_menu) (3.3.2)\n",
            "Requirement already satisfied: idna<4,>=2.5 in /usr/local/lib/python3.10/dist-packages (from requests<3,>=2.27->streamlit>=0.63->streamlit_option_menu) (3.7)\n",
            "Requirement already satisfied: urllib3<3,>=1.21.1 in /usr/local/lib/python3.10/dist-packages (from requests<3,>=2.27->streamlit>=0.63->streamlit_option_menu) (2.0.7)\n",
            "Requirement already satisfied: certifi>=2017.4.17 in /usr/local/lib/python3.10/dist-packages (from requests<3,>=2.27->streamlit>=0.63->streamlit_option_menu) (2024.6.2)\n",
            "Requirement already satisfied: markdown-it-py>=2.2.0 in /usr/local/lib/python3.10/dist-packages (from rich<14,>=10.14.0->streamlit>=0.63->streamlit_option_menu) (3.0.0)\n",
            "Requirement already satisfied: pygments<3.0.0,>=2.13.0 in /usr/local/lib/python3.10/dist-packages (from rich<14,>=10.14.0->streamlit>=0.63->streamlit_option_menu) (2.16.1)\n",
            "Requirement already satisfied: smmap<6,>=3.0.1 in /usr/local/lib/python3.10/dist-packages (from gitdb<5,>=4.0.1->gitpython!=3.1.19,<4,>=3.0.7->streamlit>=0.63->streamlit_option_menu) (5.0.1)\n",
            "Requirement already satisfied: MarkupSafe>=2.0 in /usr/local/lib/python3.10/dist-packages (from jinja2->altair<6,>=4.0->streamlit>=0.63->streamlit_option_menu) (2.1.5)\n",
            "Requirement already satisfied: attrs>=22.2.0 in /usr/local/lib/python3.10/dist-packages (from jsonschema>=3.0->altair<6,>=4.0->streamlit>=0.63->streamlit_option_menu) (23.2.0)\n",
            "Requirement already satisfied: jsonschema-specifications>=2023.03.6 in /usr/local/lib/python3.10/dist-packages (from jsonschema>=3.0->altair<6,>=4.0->streamlit>=0.63->streamlit_option_menu) (2023.12.1)\n",
            "Requirement already satisfied: referencing>=0.28.4 in /usr/local/lib/python3.10/dist-packages (from jsonschema>=3.0->altair<6,>=4.0->streamlit>=0.63->streamlit_option_menu) (0.35.1)\n",
            "Requirement already satisfied: rpds-py>=0.7.1 in /usr/local/lib/python3.10/dist-packages (from jsonschema>=3.0->altair<6,>=4.0->streamlit>=0.63->streamlit_option_menu) (0.18.1)\n",
            "Requirement already satisfied: mdurl~=0.1 in /usr/local/lib/python3.10/dist-packages (from markdown-it-py>=2.2.0->rich<14,>=10.14.0->streamlit>=0.63->streamlit_option_menu) (0.1.2)\n",
            "Requirement already satisfied: six>=1.5 in /usr/local/lib/python3.10/dist-packages (from python-dateutil>=2.8.2->pandas<3,>=1.3.0->streamlit>=0.63->streamlit_option_menu) (1.16.0)\n"
          ]
        }
      ],
      "source": [
        "!pip install easyocr\n",
        "!pip install streamlit\n",
        "!pip install streamlit_option_menu"
      ]
    },
    {
      "cell_type": "code",
      "execution_count": 2,
      "metadata": {
        "id": "2Ya2wh_Zb0F-"
      },
      "outputs": [],
      "source": [
        "import streamlit as st\n",
        "from streamlit_option_menu import option_menu\n",
        "import easyocr\n",
        "from PIL import Image\n",
        "import pandas as pd\n",
        "import numpy as np\n",
        "import re"
      ]
    },
    {
      "cell_type": "code",
      "execution_count": 4,
      "metadata": {
        "colab": {
          "base_uri": "https://localhost:8080/"
        },
        "id": "0lbp1YHooaTn",
        "outputId": "0bffb09e-8d0d-459b-cf8c-c41a429da478"
      },
      "outputs": [
        {
          "output_type": "stream",
          "name": "stdout",
          "text": [
            "Requirement already satisfied: mysql-connector-python in /usr/local/lib/python3.10/dist-packages (8.4.0)\n"
          ]
        }
      ],
      "source": [
        "!pip install mysql-connector-python\n",
        "\n",
        "import mysql.connector\n",
        "\n"
      ]
    },
    {
      "cell_type": "code",
      "source": [
        "%%writefile myocr_app.py\n",
        "\n",
        "\n",
        "import streamlit as st\n",
        "from streamlit_option_menu import option_menu\n",
        "import easyocr\n",
        "from PIL import Image\n",
        "import pandas as pd\n",
        "import numpy as np\n",
        "import re\n",
        "import io\n",
        "import sqlite3\n",
        "\n",
        "\n",
        "def image_to_text(path):\n",
        "\n",
        "  input_img= Image.open(path)\n",
        "\n",
        "  #converting image to array formet\n",
        "  image_arr= np.array(input_img)\n",
        "\n",
        "  reader= easyocr.Reader(['en'])\n",
        "  text= reader.readtext(image_arr, detail= 0)\n",
        "\n",
        "  return text, input_img\n",
        "\n",
        "\n",
        "def extracted_text(texts):\n",
        "\n",
        "  extrd_dict = {\"NAME\":[], \"DESIGNATION\":[], \"COMPANY_NAME\":[], \"CONTACT\":[], \"EMAIL\":[], \"WEBSITE\":[],\n",
        "                \"ADDRESS\":[], \"PINCODE\":[]}\n",
        "\n",
        "  extrd_dict[\"NAME\"].append(texts[0])\n",
        "  extrd_dict[\"DESIGNATION\"].append(texts[1])\n",
        "\n",
        "  for i in range(2,len(texts)):\n",
        "\n",
        "    if texts[i].startswith(\"+\") or (texts[i].replace(\"-\",\"\").isdigit() and '-' in texts[i]):\n",
        "\n",
        "      extrd_dict[\"CONTACT\"].append(texts[i])\n",
        "\n",
        "    elif \"@\" in texts[i] and \".com\" in texts[i]:\n",
        "      extrd_dict[\"EMAIL\"].append(texts[i])\n",
        "\n",
        "    elif \"WWW\" in texts[i] or \"www\" in texts[i] or \"Www\" in texts[i] or \"wWw\" in texts[i] or \"wwW\" in texts[i]:\n",
        "      small= texts[i].lower()\n",
        "      extrd_dict[\"WEBSITE\"].append(small)\n",
        "\n",
        "    elif \"Tamil Nadu\" in texts[i] or \"TamilNadu\" in texts[i] or texts[i].isdigit():\n",
        "      extrd_dict[\"PINCODE\"].append(texts[i])\n",
        "\n",
        "    elif re.match(r'^[A-Za-z]', texts[i]):\n",
        "      extrd_dict[\"COMPANY_NAME\"].append(texts[i])\n",
        "\n",
        "    else:\n",
        "      remove_colon= re.sub(r'[,;]','',texts[i])\n",
        "      extrd_dict[\"ADDRESS\"].append(remove_colon)\n",
        "\n",
        "  for key,value in extrd_dict.items():\n",
        "    if len(value)>0:\n",
        "      concadenate= \" \".join(value)\n",
        "      extrd_dict[key] = [concadenate]\n",
        "\n",
        "    else:\n",
        "      value = \"NA\"\n",
        "      extrd_dict[key] = [value]\n",
        "\n",
        "  return extrd_dict\n",
        "\n",
        "\n",
        "#Streamlit part\n",
        "\n",
        "st.set_page_config(layout = \"wide\")\n",
        "st.title(\"EXTRACTING BUSINESS CARD DATA WITH 'OCR'\")\n",
        "\n",
        "with st.sidebar:\n",
        "\n",
        "  select= option_menu(\"Main Menu\", [\"Home\", \"Upload & Modifying\", \"Delete\"])\n",
        "\n",
        "if select == \"Home\":\n",
        "  st.markdown(\"### :blue[**Technologies Used :**] Python,easy OCR, Streamlit, SQL, Pandas\")\n",
        "\n",
        "\n",
        "\n",
        "  st.write(\n",
        "            \"### :green[**About :**] Bizcard is a Python application designed to extract information from business cards.\")\n",
        "  st.write(\n",
        "            '### The main purpose of Bizcard is to automate the process of extracting key details from business card images, such as the name, designation, company, contact information, and other relevant data. By leveraging the power of OCR (Optical Character Recognition) provided by EasyOCR, Bizcard is able to extract text from the images.')\n",
        "\n",
        "elif select == \"Upload & Modifying\":\n",
        "  img = st.file_uploader(\"Upload the Image\", type= [\"png\",\"jpg\",\"jpeg\"])\n",
        "\n",
        "  if img is not None:\n",
        "    st.image(img, width= 300)\n",
        "\n",
        "    text_image, input_img= image_to_text(img)\n",
        "\n",
        "    text_dict = extracted_text(text_image)\n",
        "\n",
        "    if text_dict:\n",
        "      st.success(\"TEXT IS EXTRACTED SUCCESSFULLY\")\n",
        "\n",
        "    df= pd.DataFrame(text_dict)\n",
        "\n",
        "    #Converting Image to Bytes\n",
        "\n",
        "    Image_bytes = io.BytesIO()\n",
        "    input_img.save(Image_bytes, format= \"PNG\")\n",
        "\n",
        "    image_data = Image_bytes.getvalue()\n",
        "\n",
        "    #Creating Dictionary\n",
        "    data = {\"IMAGE\":[image_data]}\n",
        "\n",
        "    df_1 = pd.DataFrame(data)\n",
        "\n",
        "    concat_df = pd.concat([df,df_1],axis= 1)\n",
        "\n",
        "    st.dataframe(concat_df)\n",
        "\n",
        "    button_1 = st.button(\"Save\", use_container_width = True)\n",
        "\n",
        "    if button_1:\n",
        "\n",
        "      mydb = sqlite3.connect(\"bizcardx.db\")\n",
        "      cursor = mydb.cursor()\n",
        "\n",
        "      #Table Creation\n",
        "\n",
        "      create_table_query = '''CREATE TABLE IF NOT EXISTS bizcard_details(name varchar(225),\n",
        "                                                                          designation varchar(225),\n",
        "                                                                          company_name varchar(225),\n",
        "                                                                          contact varchar(225),\n",
        "                                                                          email varchar(225),\n",
        "                                                                          website text,\n",
        "                                                                          address text,\n",
        "                                                                          pincode varchar(225),\n",
        "                                                                          image text)'''\n",
        "\n",
        "      cursor.execute(create_table_query)\n",
        "      mydb.commit()\n",
        "\n",
        "      # Insert Query\n",
        "\n",
        "      insert_query = '''INSERT INTO bizcard_details(name, designation, company_name,contact, email, website, address,\n",
        "                                                    pincode, image)\n",
        "\n",
        "                                                    values(?,?,?,?,?,?,?,?,?)'''\n",
        "\n",
        "      datas = concat_df.values.tolist()[0]\n",
        "      cursor.execute(insert_query,datas)\n",
        "      mydb.commit()\n",
        "\n",
        "      st.success(\"SAVED SUCCESSFULLY\")\n",
        "\n",
        "  method =  st.radio(\"Select the Method\",[\"None\",\"Preview\",\"Modify\"])\n",
        "\n",
        "  if method == \"None\":\n",
        "    st.write(\"\")\n",
        "\n",
        "  if method == \"Preview\":\n",
        "\n",
        "    mydb = sqlite3.connect(\"bizcardx.db\")\n",
        "    cursor = mydb.cursor()\n",
        "\n",
        "    #select query\n",
        "    select_query = \"SELECT * FROM bizcard_details\"\n",
        "\n",
        "    cursor.execute(select_query)\n",
        "    table = cursor.fetchall()\n",
        "    mydb.commit()\n",
        "\n",
        "    table_df = pd.DataFrame(table, columns=(\"NAME\", \"DESIGNATION\", \"COMPANY_NAME\", \"CONTACT\", \"EMAIL\", \"WEBSITE\",\n",
        "                                            \"ADDRESS\", \"PINCODE\", \"IMAGE\"))\n",
        "    st.dataframe(table_df)\n",
        "\n",
        "  elif method == \"Modify\":\n",
        "\n",
        "    mydb = sqlite3.connect(\"bizcardx.db\")\n",
        "    cursor = mydb.cursor()\n",
        "\n",
        "    #select query\n",
        "    select_query = \"SELECT * FROM bizcard_details\"\n",
        "\n",
        "    cursor.execute(select_query)\n",
        "    table = cursor.fetchall()\n",
        "    mydb.commit()\n",
        "\n",
        "    table_df = pd.DataFrame(table, columns=(\"NAME\", \"DESIGNATION\", \"COMPANY_NAME\", \"CONTACT\", \"EMAIL\", \"WEBSITE\",\n",
        "                                            \"ADDRESS\", \"PINCODE\", \"IMAGE\"))\n",
        "\n",
        "    col1,col2 = st.columns(2)\n",
        "    with col1:\n",
        "\n",
        "      selected_name = st.selectbox(\"Select the name\", table_df[\"NAME\"])\n",
        "\n",
        "    df_3 = table_df[table_df[\"NAME\"] == selected_name]\n",
        "\n",
        "    df_4 = df_3.copy()\n",
        "\n",
        "    col1,col2 = st.columns(2)\n",
        "    with col1:\n",
        "      mo_name = st.text_input(\"Name\", df_3[\"NAME\"].unique()[0])\n",
        "      mo_desi = st.text_input(\"Designation\", df_3[\"DESIGNATION\"].unique()[0])\n",
        "      mo_com_name = st.text_input(\"Company_name\", df_3[\"COMPANY_NAME\"].unique()[0])\n",
        "      mo_contact = st.text_input(\"Contact\", df_3[\"CONTACT\"].unique()[0])\n",
        "      mo_email = st.text_input(\"Email\", df_3[\"EMAIL\"].unique()[0])\n",
        "\n",
        "      df_4[\"NAME\"] = mo_name\n",
        "      df_4[\"DESIGNATION\"] = mo_desi\n",
        "      df_4[\"COMPANY_NAME\"] = mo_com_name\n",
        "      df_4[\"CONTACT\"] = mo_contact\n",
        "      df_4[\"EMAIL\"] = mo_email\n",
        "\n",
        "    with col2:\n",
        "\n",
        "      mo_website = st.text_input(\"Website\", df_3[\"WEBSITE\"].unique()[0])\n",
        "      mo_addre = st.text_input(\"Address\", df_3[\"ADDRESS\"].unique()[0])\n",
        "      mo_pincode = st.text_input(\"Pincode\", df_3[\"PINCODE\"].unique()[0])\n",
        "      mo_image = st.text_input(\"Image\", df_3[\"IMAGE\"].unique()[0])\n",
        "\n",
        "      df_4[\"WEBSITE\"] = mo_website\n",
        "      df_4[\"ADDRESS\"] = mo_addre\n",
        "      df_4[\"PINCODE\"] = mo_pincode\n",
        "      df_4[\"IMAGE\"] = mo_image\n",
        "\n",
        "    st.dataframe(df_4)\n",
        "\n",
        "    col1,col2= st.columns(2)\n",
        "    with col1:\n",
        "      button_3 = st.button(\"Modify\", use_container_width = True)\n",
        "\n",
        "    if button_3:\n",
        "\n",
        "      mydb = sqlite3.connect(\"bizcardx.db\")\n",
        "      cursor = mydb.cursor()\n",
        "\n",
        "      cursor.execute(f\"DELETE FROM bizcard_details WHERE NAME = '{selected_name}'\")\n",
        "      mydb.commit()\n",
        "\n",
        "      # Insert Query\n",
        "\n",
        "      insert_query = '''INSERT INTO bizcard_details(name, designation, company_name,contact, email, website, address,\n",
        "                                                    pincode, image)\n",
        "\n",
        "                                                    values(?,?,?,?,?,?,?,?,?)'''\n",
        "\n",
        "      datas = df_4.values.tolist()[0]\n",
        "      cursor.execute(insert_query,datas)\n",
        "      mydb.commit()\n",
        "\n",
        "      st.success(\"MODIFYED SUCCESSFULLY\")\n",
        "\n",
        "\n",
        "\n",
        "elif select == \"Delete\":\n",
        "\n",
        "  mydb = sqlite3.connect(\"bizcardx.db\")\n",
        "  cursor = mydb.cursor()\n",
        "\n",
        "  col1,col2 = st.columns(2)\n",
        "  with col1:\n",
        "\n",
        "    select_query = \"SELECT NAME FROM bizcard_details\"\n",
        "\n",
        "    cursor.execute(select_query)\n",
        "    table1 = cursor.fetchall()\n",
        "    mydb.commit()\n",
        "\n",
        "    names = []\n",
        "\n",
        "    for i in table1:\n",
        "      names.append(i[0])\n",
        "\n",
        "    name_select = st.selectbox(\"Select the name\", names)\n",
        "\n",
        "  with col2:\n",
        "\n",
        "    select_query = f\"SELECT DESIGNATION FROM bizcard_details WHERE NAME ='{name_select}'\"\n",
        "\n",
        "    cursor.execute(select_query)\n",
        "    table2 = cursor.fetchall()\n",
        "    mydb.commit()\n",
        "\n",
        "    designations = []\n",
        "\n",
        "    for j in table2:\n",
        "      designations.append(j[0])\n",
        "\n",
        "    designation_select = st.selectbox(\"Select the designation\", options = designations)\n",
        "\n",
        "  if name_select and designation_select:\n",
        "    col1,col2,col3 = st.columns(3)\n",
        "\n",
        "    with col1:\n",
        "      st.write(f\"Selected Name : {name_select}\")\n",
        "      st.write(\"\")\n",
        "      st.write(\"\")\n",
        "      st.write(\"\")\n",
        "      st.write(f\"Selected Designation : {designation_select}\")\n",
        "\n",
        "    with col2:\n",
        "      st.write(\"\")\n",
        "      st.write(\"\")\n",
        "      st.write(\"\")\n",
        "      st.write(\"\")\n",
        "\n",
        "      remove = st.button(\"Delete\", use_container_width= True)\n",
        "\n",
        "      if remove:\n",
        "\n",
        "        cursor.execute(f\"DELETE FROM bizcard_details WHERE NAME ='{name_select}' AND DESIGNATION = '{designation_select}'\")\n",
        "        mydb.commit()\n",
        "\n",
        "        st.warning(\"DELETED\")\n"
      ],
      "metadata": {
        "colab": {
          "base_uri": "https://localhost:8080/"
        },
        "id": "EZfsaEkdR0JQ",
        "outputId": "4878add3-49fd-4ee7-88f7-eab5cc49eb28"
      },
      "execution_count": 15,
      "outputs": [
        {
          "output_type": "stream",
          "name": "stdout",
          "text": [
            "Overwriting myocr_app.py\n"
          ]
        }
      ]
    },
    {
      "cell_type": "code",
      "execution_count": 5,
      "metadata": {
        "colab": {
          "base_uri": "https://localhost:8080/"
        },
        "id": "wxn5X3gUcpMu",
        "outputId": "5341ccc2-6629-490e-b646-e233e45edae7"
      },
      "outputs": [
        {
          "output_type": "stream",
          "name": "stderr",
          "text": [
            "WARNING:easyocr.easyocr:Neither CUDA nor MPS are available - defaulting to CPU. Note: This module is much faster with a GPU.\n"
          ]
        }
      ],
      "source": [
        "text_img, input_img= image_to_text(\"/content/1.png\")"
      ]
    },
    {
      "cell_type": "code",
      "execution_count": 16,
      "metadata": {
        "colab": {
          "base_uri": "https://localhost:8080/"
        },
        "id": "MklUQ24sLqtg",
        "outputId": "398d82e5-9911-45b0-c02f-9887b88a0e92"
      },
      "outputs": [
        {
          "output_type": "stream",
          "name": "stderr",
          "text": [
            "WARNING:easyocr.easyocr:Neither CUDA nor MPS are available - defaulting to CPU. Note: This module is much faster with a GPU.\n"
          ]
        }
      ],
      "source": [
        "text_img, input_img= image_to_text(\"/content/2.png\")"
      ]
    },
    {
      "cell_type": "code",
      "execution_count": 17,
      "metadata": {
        "colab": {
          "base_uri": "https://localhost:8080/"
        },
        "id": "qgVcIIxzLq9W",
        "outputId": "8b0ac261-4cbb-48cc-d2db-45231304ed07"
      },
      "outputs": [
        {
          "output_type": "stream",
          "name": "stderr",
          "text": [
            "WARNING:easyocr.easyocr:Neither CUDA nor MPS are available - defaulting to CPU. Note: This module is much faster with a GPU.\n"
          ]
        }
      ],
      "source": [
        "text_img, input_img= image_to_text(\"/content/3.png\")"
      ]
    },
    {
      "cell_type": "code",
      "execution_count": 18,
      "metadata": {
        "colab": {
          "base_uri": "https://localhost:8080/"
        },
        "id": "lexMCGnJLrHy",
        "outputId": "da2bb433-df5a-4231-d334-2e34d2f23d3f"
      },
      "outputs": [
        {
          "output_type": "stream",
          "name": "stderr",
          "text": [
            "WARNING:easyocr.easyocr:Neither CUDA nor MPS are available - defaulting to CPU. Note: This module is much faster with a GPU.\n"
          ]
        }
      ],
      "source": [
        "text_img, input_img= image_to_text(\"/content/4.png\")"
      ]
    },
    {
      "cell_type": "code",
      "execution_count": 19,
      "metadata": {
        "colab": {
          "base_uri": "https://localhost:8080/"
        },
        "id": "HKLVFnoqLrN3",
        "outputId": "325d6f76-7e8e-4bef-de68-ff911b20b47e"
      },
      "outputs": [
        {
          "output_type": "stream",
          "name": "stderr",
          "text": [
            "WARNING:easyocr.easyocr:Neither CUDA nor MPS are available - defaulting to CPU. Note: This module is much faster with a GPU.\n"
          ]
        }
      ],
      "source": [
        "text_img, input_img= image_to_text(\"/content/5.png\")"
      ]
    },
    {
      "cell_type": "code",
      "execution_count": 20,
      "metadata": {
        "colab": {
          "base_uri": "https://localhost:8080/"
        },
        "id": "b2VeX8ruKA4U",
        "outputId": "f0f6afb6-07c3-48ea-ab90-2891adf76edc"
      },
      "outputs": [
        {
          "output_type": "stream",
          "name": "stdout",
          "text": [
            "34.82.153.187\n"
          ]
        }
      ],
      "source": [
        "!wget -q -O - ipv4.icanhazip.com"
      ]
    },
    {
      "cell_type": "code",
      "execution_count": null,
      "metadata": {
        "colab": {
          "base_uri": "https://localhost:8080/"
        },
        "id": "6pR8v1tJKQG8",
        "outputId": "e3161358-954c-4322-9a75-360d1a1a729b"
      },
      "outputs": [
        {
          "output_type": "stream",
          "name": "stdout",
          "text": [
            "\n",
            "Collecting usage statistics. To deactivate, set browser.gatherUsageStats to false.\n",
            "\u001b[0m\n",
            "\u001b[0m\n",
            "\u001b[34m\u001b[1m  You can now view your Streamlit app in your browser.\u001b[0m\n",
            "\u001b[0m\n",
            "\u001b[34m  Local URL: \u001b[0m\u001b[1mhttp://localhost:8501\u001b[0m\n",
            "\u001b[34m  Network URL: \u001b[0m\u001b[1mhttp://172.28.0.12:8501\u001b[0m\n",
            "\u001b[34m  External URL: \u001b[0m\u001b[1mhttp://34.82.153.187:8501\u001b[0m\n",
            "\u001b[0m\n",
            "\u001b[K\u001b[?25hnpx: installed 22 in 2.447s\n",
            "your url is: https://deep-animals-cover.loca.lt\n",
            "Neither CUDA nor MPS are available - defaulting to CPU. Note: This module is much faster with a GPU.\n",
            "Neither CUDA nor MPS are available - defaulting to CPU. Note: This module is much faster with a GPU.\n",
            "Neither CUDA nor MPS are available - defaulting to CPU. Note: This module is much faster with a GPU.\n"
          ]
        }
      ],
      "source": [
        "! streamlit run myocr_app.py & npx localtunnel --port 8501"
      ]
    }
  ],
  "metadata": {
    "colab": {
      "provenance": []
    },
    "kernelspec": {
      "display_name": "Python 3",
      "name": "python3"
    },
    "language_info": {
      "name": "python"
    }
  },
  "nbformat": 4,
  "nbformat_minor": 0
}